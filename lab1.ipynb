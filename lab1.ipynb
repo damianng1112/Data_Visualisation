{
 "cells": [
  {
   "cell_type": "code",
   "execution_count": 2,
   "id": "8216eb64-8d1b-4874-be4f-0077b02ffaf9",
   "metadata": {},
   "outputs": [],
   "source": [
    "a= [1, 2, 3]\n",
    "b= [3,4,5]"
   ]
  },
  {
   "cell_type": "code",
   "execution_count": 4,
   "id": "0786ed54-07b7-42b0-8e97-17cbf6f158fc",
   "metadata": {},
   "outputs": [
    {
     "data": {
      "text/plain": [
       "[1, 2, 3, 3, 4, 5]"
      ]
     },
     "execution_count": 4,
     "metadata": {},
     "output_type": "execute_result"
    }
   ],
   "source": [
    "a.extend(b)\n",
    "a"
   ]
  },
  {
   "cell_type": "code",
   "execution_count": 8,
   "id": "eac8ff71-edf3-4cc3-b958-49b231ba20d6",
   "metadata": {},
   "outputs": [
    {
     "name": "stdout",
     "output_type": "stream",
     "text": [
      "not in dict\n"
     ]
    }
   ],
   "source": [
    "a = {1 : 3, 2 : 3}\n",
    "if 6 in a:\n",
    "    b = a[1]\n",
    "    print(b)\n",
    "else:\n",
    "    print('not in dict')"
   ]
  },
  {
   "cell_type": "code",
   "execution_count": 9,
   "id": "28f82f80-2b5c-4ec9-b95f-d13e0c14eb11",
   "metadata": {},
   "outputs": [
    {
     "name": "stdout",
     "output_type": "stream",
     "text": [
      "{1: 3, 2: 3}\n"
     ]
    }
   ],
   "source": [
    "print(a)"
   ]
  },
  {
   "cell_type": "code",
   "execution_count": 10,
   "id": "104fee94-6c6b-4dd2-b84b-b565f68b2a7b",
   "metadata": {},
   "outputs": [
    {
     "name": "stdout",
     "output_type": "stream",
     "text": [
      "{1: 3, 2: 3, 3: 6}\n"
     ]
    }
   ],
   "source": [
    "a[3] = 6\n",
    "print(a)"
   ]
  },
  {
   "cell_type": "code",
   "execution_count": 11,
   "id": "b7217609-4720-4313-8d58-edc239703904",
   "metadata": {},
   "outputs": [
    {
     "name": "stdout",
     "output_type": "stream",
     "text": [
      "{1: 3, 2: 3, 3: 6, 6: None}\n"
     ]
    }
   ],
   "source": [
    "if 6 in a:\n",
    "    pass\n",
    "else:\n",
    "    a[6]= None\n",
    "print(a)"
   ]
  },
  {
   "cell_type": "code",
   "execution_count": 12,
   "id": "5a19b7ca-bf8d-4fd2-9f47-868ba7474f09",
   "metadata": {},
   "outputs": [
    {
     "data": {
      "text/plain": [
       "dict"
      ]
     },
     "execution_count": 12,
     "metadata": {},
     "output_type": "execute_result"
    }
   ],
   "source": [
    "type(a)"
   ]
  },
  {
   "cell_type": "code",
   "execution_count": 13,
   "id": "94c2493d-6bf7-4c53-b7b7-6832f051a377",
   "metadata": {},
   "outputs": [
    {
     "data": {
      "text/plain": [
       "set"
      ]
     },
     "execution_count": 13,
     "metadata": {},
     "output_type": "execute_result"
    }
   ],
   "source": [
    "a = {1, 3, 4}\n",
    "type(a)"
   ]
  },
  {
   "cell_type": "code",
   "execution_count": 18,
   "id": "e4991c5e-c607-4f87-8754-5d3cfdddbef6",
   "metadata": {},
   "outputs": [
    {
     "data": {
      "text/plain": [
       "{1}"
      ]
     },
     "execution_count": 18,
     "metadata": {},
     "output_type": "execute_result"
    }
   ],
   "source": [
    "a = set([1,2,3,4,5])\n",
    "b= set([2,3,4,5,6])\n",
    "a.difference(b)"
   ]
  },
  {
   "cell_type": "code",
   "execution_count": 19,
   "id": "af7449a1-e23b-4eb9-a8d6-6ec79f31619e",
   "metadata": {},
   "outputs": [
    {
     "data": {
      "text/plain": [
       "{1, 2, 3, 4, 5, 6}"
      ]
     },
     "execution_count": 19,
     "metadata": {},
     "output_type": "execute_result"
    }
   ],
   "source": [
    "a.union(b)"
   ]
  },
  {
   "cell_type": "code",
   "execution_count": 20,
   "id": "c9828d0a-4aa9-4ea3-9f42-360dac0a979e",
   "metadata": {},
   "outputs": [
    {
     "data": {
      "text/plain": [
       "{6}"
      ]
     },
     "execution_count": 20,
     "metadata": {},
     "output_type": "execute_result"
    }
   ],
   "source": [
    "b - a"
   ]
  },
  {
   "cell_type": "code",
   "execution_count": 23,
   "id": "5a8170f7-b781-47e1-ace2-37bde656ff01",
   "metadata": {},
   "outputs": [
    {
     "name": "stdout",
     "output_type": "stream",
     "text": [
      "Minimum value at: x=[-2.00000002], y=[0.]\n"
     ]
    }
   ],
   "source": [
    "from scipy.optimize import minimize\n",
    "\n",
    "# Define a simple quadratic function: f(x) = x^2 + 4x + 4, see the DataViz example above, the minimal value is x=-2, y=0\n",
    "def f(x):\n",
    "    return x**2 + 4*x + 4\n",
    "\n",
    "# Optimize (minimize) the function, meaning to search for x so that f(x) is minimised\n",
    "result = minimize(f, x0=0)  # 'x0=0' denotes search for x from x=x0=0\n",
    "print(f\"Minimum value at: x={result.x}, y={f(result.x)}\")"
   ]
  },
  {
   "cell_type": "code",
   "execution_count": 27,
   "id": "229a4890-1a1c-4126-b60c-6d6f196b6b3e",
   "metadata": {},
   "outputs": [
    {
     "name": "stdout",
     "output_type": "stream",
     "text": [
      "The statistics of the data is          Product A   Product B   Product C   Product D\n",
      "count  100.000000  100.000000  100.000000  100.000000\n",
      "mean   251.898957  151.640259  307.829494  221.884678\n",
      "std     54.993231   20.797589   66.162090   44.781967\n",
      "min    123.410306  105.531937  194.548145  123.610894\n",
      "25%    204.566644  135.091404  252.633953  193.758778\n",
      "50%    267.311415  150.493097  288.611080  222.454264\n",
      "75%    301.060008  166.949598  360.202943  248.578035\n",
      "max    337.917784  197.662895  444.834536  340.268940\n"
     ]
    }
   ],
   "source": [
    "import torch\n",
    "import torch.nn as nn\n",
    "import torch.optim as optim\n",
    "import torchvision\n",
    "import torchvision.transforms as transforms\n",
    "\n",
    "# Load datasets\n",
    "transform = transforms.Compose([transforms.ToTensor(), transforms.Normalize((0.5,)*3, (0.5,)*3)])\n",
    "trainset = torchvision.datasets.CIFAR10('./data', True, transform, download=True)\n",
    "trainloader = torch.utils.data.DataLoader(trainset, 32, True)\n",
    "testset = torchvision.datasets.CIFAR10('./data', False, transform, download=True)\n",
    "testloader = torch.utils.data.DataLoader(testset, 32, False)\n",
    "\n",
    "# Define the neural network using Sequential\n",
    "net = nn.Sequential(\n",
    "    nn.Conv2d(3, 32, 3), nn.ReLU(), nn.MaxPool2d(2, 2),\n",
    "    nn.Conv2d(32, 64, 3), nn.ReLU(), nn.MaxPool2d(2, 2),\n",
    "    nn.Flatten(), nn.Linear(64 * 6 * 6, 512), nn.ReLU(), nn.Linear(512, 10)\n",
    ")\n",
    "\n",
    "# Setup optimizer and loss function\n",
    "criterion = nn.CrossEntropyLoss()\n",
    "optimizer = optim.SGD(net.parameters(), lr=0.001, momentum=0.9)\n",
    "\n",
    "# Training loop\n",
    "for epoch in range(10):\n",
    "    for i, (inputs, labels) in enumerate(trainloader):\n",
    "        outputs = net(inputs)\n",
    "        loss = criterion(outputs, labels)\n",
    "        optimizer.zero_grad()\n",
    "        loss.backward()\n",
    "        optimizer.step()\n",
    "        if i % 200 == 199:\n",
    "            print(f\"[{epoch + 1}, {i + 1}] loss: {loss.item():.3f}\")\n",
    "\n",
    "# Evaluation\n",
    "correct = sum((torch.max(net(images), 1)[1] == labels).sum().item() for images, labels in testloader)\n",
    "print(f\"Accuracy: {100 * correct / len(testset):.2f}%\")"
   ]
  },
  {
   "cell_type": "code",
   "execution_count": 29,
   "id": "3cc10350-2ba7-4cef-9e1a-54d00da96942",
   "metadata": {},
   "outputs": [
    {
     "name": "stdout",
     "output_type": "stream",
     "text": [
      "1 John Doe 28 1234 Elm Street\n",
      "2 Jane Smith 25 5678 Oak Street\n",
      "3 Mike Johnson 31 9102 Pine Avenue\n"
     ]
    },
    {
     "name": "stderr",
     "output_type": "stream",
     "text": [
      "C:\\Users\\damia\\AppData\\Local\\Temp\\ipykernel_17520\\776145428.py:5: MovedIn20Warning: The ``declarative_base()`` function is now available as sqlalchemy.orm.declarative_base(). (deprecated since: 2.0) (Background on SQLAlchemy 2.0 at: https://sqlalche.me/e/b8d9)\n",
      "  Base = declarative_base()\n"
     ]
    }
   ],
   "source": [
    "from sqlalchemy import create_engine, Column, Integer, String, Sequence\n",
    "from sqlalchemy.ext.declarative import declarative_base\n",
    "from sqlalchemy.orm import sessionmaker\n",
    "\n",
    "Base = declarative_base()\n",
    "\n",
    "# 1. Connect to SQLite and create a new db file named \"example.db\"\n",
    "engine = create_engine('sqlite:///example.db')\n",
    "\n",
    "# 2. Define a new table (a new class) named \"User\"\n",
    "class User(Base):\n",
    "    __tablename__ = 'users'\n",
    "    id = Column(Integer, Sequence('user_id_seq'), primary_key=True)\n",
    "    name = Column(String(50))\n",
    "    age = Column(Integer)\n",
    "    address = Column(String(100))\n",
    "\n",
    "# Create the table in the database\n",
    "Base.metadata.create_all(engine)\n",
    "\n",
    "# 3. Insert some records\n",
    "Session = sessionmaker(bind=engine)\n",
    "session = Session()\n",
    "\n",
    "# Adding single record\n",
    "new_user = User(name='John Doe', age=28, address='1234 Elm Street')\n",
    "session.add(new_user)\n",
    "\n",
    "# Adding multiple records\n",
    "users = [\n",
    "    User(name='Jane Smith', age=25, address='5678 Oak Street'),\n",
    "    User(name='Mike Johnson', age=31, address='9102 Pine Avenue')\n",
    "]\n",
    "session.add_all(users)\n",
    "\n",
    "session.commit()\n",
    "\n",
    "# 4. Query the records\n",
    "for user in session.query(User).order_by(User.id):\n",
    "    print(user.id, user.name, user.age, user.address)\n",
    "\n",
    "session.close()"
   ]
  },
  {
   "cell_type": "code",
   "execution_count": null,
   "id": "3aeb57ca-cf49-4ad8-8a09-1db39b8dad90",
   "metadata": {},
   "outputs": [],
   "source": []
  }
 ],
 "metadata": {
  "kernelspec": {
   "display_name": "Python 3 (ipykernel)",
   "language": "python",
   "name": "python3"
  },
  "language_info": {
   "codemirror_mode": {
    "name": "ipython",
    "version": 3
   },
   "file_extension": ".py",
   "mimetype": "text/x-python",
   "name": "python",
   "nbconvert_exporter": "python",
   "pygments_lexer": "ipython3",
   "version": "3.8.19"
  }
 },
 "nbformat": 4,
 "nbformat_minor": 5
}

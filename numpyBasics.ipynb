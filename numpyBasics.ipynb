{
  "nbformat": 4,
  "nbformat_minor": 0,
  "metadata": {
    "colab": {
      "provenance": []
    },
    "kernelspec": {
      "name": "python3",
      "display_name": "Python 3"
    },
    "language_info": {
      "name": "python"
    }
  },
  "cells": [
    {
      "cell_type": "code",
      "execution_count": 1,
      "metadata": {
        "id": "OX5ezna4rhs-"
      },
      "outputs": [],
      "source": [
        "import numpy as np"
      ]
    },
    {
      "cell_type": "code",
      "source": [
        "arr1 = np.array([2,4,6,8,10])\n",
        "arr2 = np.array([[1,3,5], [7,9,11]])\n",
        "print(arr1)\n",
        "print(arr2)\n",
        "print(arr1.shape)\n",
        "print(arr2.shape)\n",
        "print(arr1.ndim)\n",
        "print(arr2.ndim)\n",
        "print(arr1.dtype)\n",
        "print(arr2.dtype)"
      ],
      "metadata": {
        "colab": {
          "base_uri": "https://localhost:8080/"
        },
        "id": "AWxNi2XbrqTM",
        "outputId": "eb0c500f-1068-4020-c112-8550352903ca"
      },
      "execution_count": 9,
      "outputs": [
        {
          "output_type": "stream",
          "name": "stdout",
          "text": [
            "[ 2  4  6  8 10]\n",
            "[[ 1  3  5]\n",
            " [ 7  9 11]]\n",
            "(5,)\n",
            "(2, 3)\n",
            "1\n",
            "2\n",
            "int64\n",
            "int64\n"
          ]
        }
      ]
    },
    {
      "cell_type": "code",
      "source": [
        "print(arr1 + 5)\n",
        "print(arr1 - 5)\n",
        "print(arr1 * 5)\n",
        "print(arr1 / 5)\n",
        "print(arr1 // 5)\n",
        "print(arr1 % 5)\n",
        "print(arr1 ** 5)\n",
        "print(arr2 * 3)"
      ],
      "metadata": {
        "colab": {
          "base_uri": "https://localhost:8080/"
        },
        "id": "X7LW0YdBsEz4",
        "outputId": "cb42e302-87be-41d3-a5c4-5cd5a2fc8d0e"
      },
      "execution_count": 8,
      "outputs": [
        {
          "output_type": "stream",
          "name": "stdout",
          "text": [
            "[ 7  9 11 13 15]\n",
            "[-3 -1  1  3  5]\n",
            "[10 20 30 40 50]\n",
            "[0.4 0.8 1.2 1.6 2. ]\n",
            "[0 0 1 1 2]\n",
            "[2 4 1 3 0]\n",
            "[    32   1024   7776  32768 100000]\n",
            "[[ 3  9 15]\n",
            " [21 27 33]]\n"
          ]
        }
      ]
    },
    {
      "cell_type": "code",
      "source": [
        "print(arr1[0:2])\n",
        "print(arr2[1: ])\n",
        "indices = [1, 3]\n",
        "print(arr1[indices])"
      ],
      "metadata": {
        "colab": {
          "base_uri": "https://localhost:8080/"
        },
        "id": "Gj5eLVg4sUfb",
        "outputId": "71b0fec0-c2cf-497a-c01a-eb857518c974"
      },
      "execution_count": 14,
      "outputs": [
        {
          "output_type": "stream",
          "name": "stdout",
          "text": [
            "[2 4]\n",
            "[[ 7  9 11]]\n",
            "[4 8]\n"
          ]
        }
      ]
    },
    {
      "cell_type": "code",
      "source": [
        "import math as m\n",
        "print(arr1 + 3)\n",
        "print(np.sqrt(arr1))\n",
        "print(np.sin(arr1))"
      ],
      "metadata": {
        "colab": {
          "base_uri": "https://localhost:8080/"
        },
        "id": "AGAIw7yxtByH",
        "outputId": "4da9c860-e8be-4c16-9f0b-9c9dd04859fc"
      },
      "execution_count": 15,
      "outputs": [
        {
          "output_type": "stream",
          "name": "stdout",
          "text": [
            "[ 5  7  9 11 13]\n",
            "[1.41421356 2.         2.44948974 2.82842712 3.16227766]\n",
            "[ 0.90929743 -0.7568025  -0.2794155   0.98935825 -0.54402111]\n"
          ]
        }
      ]
    },
    {
      "cell_type": "code",
      "source": [
        "arr3 = np.array([12, 14, 16, 18, 20])\n",
        "print(np.vstack((arr1, arr3)))\n",
        "print(np.hstack((arr1, arr3)))"
      ],
      "metadata": {
        "colab": {
          "base_uri": "https://localhost:8080/"
        },
        "id": "KSbAiwMGucKb",
        "outputId": "fa3114f5-98ac-46ee-f6cd-b5181046b69d"
      },
      "execution_count": 16,
      "outputs": [
        {
          "output_type": "stream",
          "name": "stdout",
          "text": [
            "[[ 2  4  6  8 10]\n",
            " [12 14 16 18 20]]\n",
            "[ 2  4  6  8 10 12 14 16 18 20]\n"
          ]
        }
      ]
    },
    {
      "cell_type": "code",
      "source": [
        "arr4 = np.array([[13,15],[17,19]])\n",
        "print(np.concatenate((arr2, arr4), axis=1))"
      ],
      "metadata": {
        "colab": {
          "base_uri": "https://localhost:8080/"
        },
        "id": "FIAsUwp3vCac",
        "outputId": "b7dfa661-6f70-45ff-c229-1ab5b85057f2"
      },
      "execution_count": 19,
      "outputs": [
        {
          "output_type": "stream",
          "name": "stdout",
          "text": [
            "[[ 1  3  5 13 15]\n",
            " [ 7  9 11 17 19]]\n"
          ]
        }
      ]
    },
    {
      "cell_type": "code",
      "source": [
        "print(arr1 > 6)\n",
        "mask = arr1 > 6\n",
        "print(arr1[mask])"
      ],
      "metadata": {
        "colab": {
          "base_uri": "https://localhost:8080/"
        },
        "id": "WNOiNeB2v9Gv",
        "outputId": "df66299c-74fc-415e-c0f1-465a4f911da0"
      },
      "execution_count": 24,
      "outputs": [
        {
          "output_type": "stream",
          "name": "stdout",
          "text": [
            "[False False False  True  True]\n",
            "[ 8 10]\n"
          ]
        }
      ]
    },
    {
      "cell_type": "code",
      "source": [
        "print(arr1.reshape(5,1))\n"
      ],
      "metadata": {
        "colab": {
          "base_uri": "https://localhost:8080/"
        },
        "id": "_Vc9cCJqwNZR",
        "outputId": "9d67e0fa-164c-403a-fedf-22a6560d7a88"
      },
      "execution_count": 25,
      "outputs": [
        {
          "output_type": "stream",
          "name": "stdout",
          "text": [
            "[[ 2]\n",
            " [ 4]\n",
            " [ 6]\n",
            " [ 8]\n",
            " [10]]\n"
          ]
        }
      ]
    },
    {
      "cell_type": "code",
      "source": [
        "arr2_transposed = np.transpose(arr2)\n",
        "print(arr2_transposed)"
      ],
      "metadata": {
        "colab": {
          "base_uri": "https://localhost:8080/"
        },
        "id": "vyYGmPBRx5rN",
        "outputId": "4b4dd6c5-4ae5-4fbe-99db-678be5726f43"
      },
      "execution_count": 26,
      "outputs": [
        {
          "output_type": "stream",
          "name": "stdout",
          "text": [
            "[[ 1  7]\n",
            " [ 3  9]\n",
            " [ 5 11]]\n"
          ]
        }
      ]
    },
    {
      "cell_type": "code",
      "source": [],
      "metadata": {
        "id": "4C9tTCXfyPzt"
      },
      "execution_count": null,
      "outputs": []
    }
  ]
}
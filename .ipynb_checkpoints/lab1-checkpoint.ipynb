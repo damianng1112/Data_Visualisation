{
 "cells": [
  {
   "cell_type": "code",
   "execution_count": 6,
   "id": "f04a88ec-b1a3-44bd-931b-c59b548a61d0",
   "metadata": {},
   "outputs": [
    {
     "name": "stdout",
     "output_type": "stream",
     "text": [
      "2\n",
      "4\n",
      "6\n",
      "8\n",
      "10\n",
      "2\n",
      "4\n",
      "64\n",
      "100\n"
     ]
    }
   ],
   "source": [
    "a= [2, 4, 6, 8, 10]\n",
    "for el in a:\n",
    "    print(el)\n",
    "i=0\n",
    "while i < len(a):\n",
    "    if a[i] == 6:\n",
    "        i+=1\n",
    "        continue\n",
    "    elif a[i] < 7:\n",
    "        print(a[i])\n",
    "    else:\n",
    "        print(a[i]**2)\n",
    "    i = i + 1"
   ]
  },
  {
   "cell_type": "code",
   "execution_count": 8,
   "id": "87233f4a-370a-45fd-b03e-d5690ef04e1a",
   "metadata": {},
   "outputs": [
    {
     "name": "stdout",
     "output_type": "stream",
     "text": [
      "10\n",
      "10\n",
      "10\n",
      "20\n",
      "20\n",
      "20\n",
      "20\n",
      "20\n",
      "20\n",
      "20\n",
      "40\n"
     ]
    }
   ],
   "source": [
    "for v in range(11):\n",
    "    x =10 if v <3 else 20 if v <10 else 40\n",
    "    print(x)"
   ]
  },
  {
   "cell_type": "code",
   "execution_count": 10,
   "id": "a4892755-b92c-4852-af6c-1cc183ddbd5b",
   "metadata": {},
   "outputs": [
    {
     "name": "stdout",
     "output_type": "stream",
     "text": [
      "hi bye\n",
      "[1, 2, 3, 4, 5, 6]\n",
      "10\n"
     ]
    }
   ],
   "source": [
    "def concanate(x,y):\n",
    "    return x + y\n",
    "\n",
    "print(concanate('hi ', 'bye'))\n",
    "print(concanate([1,2,3], [4,5,6]))\n",
    "print(concanate(4,6))"
   ]
  },
  {
   "cell_type": "code",
   "execution_count": 11,
   "id": "6269e029-ef6d-4b53-b8a9-108151403f9c",
   "metadata": {},
   "outputs": [],
   "source": [
    "class Animal():\n",
    "    def __init__(self, name):\n",
    "        self.name = name\n",
    "\n",
    "    def make_sound(self):\n",
    "        return 'make sound'\n",
    "\n",
    "class Dog(Animal):\n",
    "    def __init__(self):\n",
    "        self.name = 'dog'\n",
    "\n",
    "    def bark(self):\n",
    "        return 'bark'"
   ]
  },
  {
   "cell_type": "code",
   "execution_count": 20,
   "id": "2b16fb62-f023-4d65-8f6a-0e38b17f6573",
   "metadata": {},
   "outputs": [
    {
     "name": "stdout",
     "output_type": "stream",
     "text": [
      "Cat\n",
      "make sound\n"
     ]
    }
   ],
   "source": [
    "animal = Animal('Cat')\n",
    "print(animal.name)\n",
    "print(animal.make_sound())"
   ]
  },
  {
   "cell_type": "code",
   "execution_count": 19,
   "id": "458bc543-b052-4a73-af0d-06afb69bd5e3",
   "metadata": {},
   "outputs": [
    {
     "name": "stdout",
     "output_type": "stream",
     "text": [
      "dog\n",
      "bark\n"
     ]
    }
   ],
   "source": [
    "dog = Dog()\n",
    "print(dog.name)\n",
    "print(dog.bark())"
   ]
  },
  {
   "cell_type": "code",
   "execution_count": 21,
   "id": "b84faa4e-09f4-4d88-8f06-4c74a80d8247",
   "metadata": {},
   "outputs": [
    {
     "name": "stdout",
     "output_type": "stream",
     "text": [
      "{'a': 'y', 'b': 'y', 'c': 'z', 'd': 'w', 'e': 'u', 'f': 'w'}\n"
     ]
    }
   ],
   "source": [
    "kvtable = {'a': 'x', 'b': 'y','c': 'z', 'd': 'w'}\n",
    "kvtable2 = {'a': 'y', 'b':'y', 'e': 'u', 'f': 'w'}\n",
    "kvtable.update(kvtable2)\n",
    "print(kvtable)"
   ]
  },
  {
   "cell_type": "code",
   "execution_count": 22,
   "id": "ae3a0394-3df3-4512-8c6a-0767d584fec6",
   "metadata": {},
   "outputs": [
    {
     "ename": "SyntaxError",
     "evalue": "expected ':' (2370744785.py, line 1)",
     "output_type": "error",
     "traceback": [
      "\u001b[1;36m  Cell \u001b[1;32mIn[22], line 1\u001b[1;36m\u001b[0m\n\u001b[1;33m    def foo()\u001b[0m\n\u001b[1;37m             ^\u001b[0m\n\u001b[1;31mSyntaxError\u001b[0m\u001b[1;31m:\u001b[0m expected ':'\n"
     ]
    }
   ],
   "source": [
    "def foo()"
   ]
  },
  {
   "cell_type": "code",
   "execution_count": 23,
   "id": "b25e7ff1-d6d6-4121-86bd-1c8b46386d14",
   "metadata": {},
   "outputs": [
    {
     "data": {
      "text/plain": [
       "{1: 2, 2: 3, 3: 4}"
      ]
     },
     "execution_count": 23,
     "metadata": {},
     "output_type": "execute_result"
    }
   ],
   "source": [
    "{i: i + 1 for i in range(1, 4)}"
   ]
  },
  {
   "cell_type": "code",
   "execution_count": 24,
   "id": "375ccb85-01b1-4cdf-9ebc-9234fcce5fcc",
   "metadata": {},
   "outputs": [
    {
     "name": "stdout",
     "output_type": "stream",
     "text": [
      "(1, 2)\n",
      "3\n"
     ]
    }
   ],
   "source": [
    "a= 1; b=(2,3)\n",
    "a,b = (a,b[0]), b[1]\n",
    "print(a)\n",
    "print(b)"
   ]
  },
  {
   "cell_type": "code",
   "execution_count": 25,
   "id": "405e159a-e8d3-40f2-aff6-e8919eb6b1d9",
   "metadata": {},
   "outputs": [],
   "source": [
    "f = lambda x: {x[key]:key for key in x} # x[key] is the value"
   ]
  },
  {
   "cell_type": "code",
   "execution_count": 26,
   "id": "a7265f97-d86f-4f86-b8b1-01ae220e520f",
   "metadata": {},
   "outputs": [],
   "source": [
    "kvtable = {'a':'d','b':'c'}"
   ]
  },
  {
   "cell_type": "code",
   "execution_count": 27,
   "id": "80b88005-34aa-4213-8f04-a378f28dab79",
   "metadata": {},
   "outputs": [
    {
     "data": {
      "text/plain": [
       "{'d': 'a', 'c': 'b'}"
      ]
     },
     "execution_count": 27,
     "metadata": {},
     "output_type": "execute_result"
    }
   ],
   "source": [
    "kvout = f(kvtable)\n",
    "kvout"
   ]
  },
  {
   "cell_type": "code",
   "execution_count": 28,
   "id": "bd00d2a1-8d69-4cfe-a4c6-49f2a6e516bd",
   "metadata": {},
   "outputs": [
    {
     "name": "stdout",
     "output_type": "stream",
     "text": [
      "loop_0, value_4\n",
      "loop_1, value_6\n",
      "loop_2, value_8\n",
      "loop_3, value_10\n",
      "loop_4, value_12\n",
      "loop_5, value_14\n",
      "loop_6, value_16\n",
      "loop_7, value_18\n",
      "loop_8, value_20\n",
      "loop_9, value_22\n",
      "loop_10, value_24\n",
      "loop_11, value_26\n",
      "loop_12, value_28\n",
      "loop_13, value_30\n",
      "loop_14, value_32\n",
      "loop_15, value_34\n",
      "loop_16, value_36\n",
      "loop_17, value_38\n",
      "loop_18, value_40\n",
      "loop_19, value_42\n",
      "loop_20, value_44\n",
      "loop_21, value_46\n",
      "loop_22, value_48\n",
      "loop_23, value_50\n",
      "loop_24, value_52\n",
      "loop_25, value_54\n",
      "loop_26, value_56\n",
      "loop_27, value_58\n",
      "loop_28, value_60\n",
      "loop_29, value_62\n",
      "loop_30, value_64\n",
      "loop_31, value_66\n",
      "loop_32, value_68\n",
      "loop_33, value_70\n",
      "loop_34, value_72\n",
      "loop_35, value_74\n",
      "loop_36, value_76\n",
      "loop_37, value_78\n",
      "loop_38, value_80\n",
      "loop_39, value_82\n",
      "loop_40, value_84\n",
      "loop_41, value_86\n",
      "loop_42, value_88\n",
      "loop_43, value_90\n",
      "loop_44, value_92\n",
      "loop_45, value_94\n",
      "loop_46, value_96\n",
      "loop_47, value_98\n"
     ]
    }
   ],
   "source": [
    "for i, it in enumerate(range(4,100,2)):\n",
    "    print(f\"loop_{i}, value_{it}\")"
   ]
  },
  {
   "cell_type": "code",
   "execution_count": 29,
   "id": "bc5ff644-64f3-4918-b0a1-efe2e471fc9f",
   "metadata": {},
   "outputs": [
    {
     "name": "stdout",
     "output_type": "stream",
     "text": [
      "False\n"
     ]
    }
   ],
   "source": [
    "is_identical = True\n",
    "for it,jt in zip([1,2,3,4],[1,2,4,4]):\n",
    "    is_identical = is_identical and it == jt\n",
    "print(is_identical)"
   ]
  },
  {
   "cell_type": "code",
   "execution_count": 47,
   "id": "c356802c-05bf-48c7-ae37-643294bcdd77",
   "metadata": {},
   "outputs": [
    {
     "name": "stderr",
     "output_type": "stream",
     "text": [
      "'rm' is not recognized as an internal or external command,\n",
      "operable program or batch file.\n"
     ]
    }
   ],
   "source": [
    "!rm data.txt\n",
    "!echo \"asdasdasdasdasd \\n 12345\" >> data.txt"
   ]
  },
  {
   "cell_type": "code",
   "execution_count": 42,
   "id": "ce331ac8-95e2-4a6b-be4d-efd13fd40b43",
   "metadata": {},
   "outputs": [
    {
     "name": "stdout",
     "output_type": "stream",
     "text": [
      "['\"asdasdasdasdasd \\\\n 12345\" \\n', '\"asdasdasdasdasd \\\\n 12345\" \\n', '\"asdasdasdasdasd \\\\n 12345\" \\n', '\"asdasdasdasdasd \\\\n 12345\" \\n', '\"asdasdasdasdasd \\\\n 12345\" \\n']\n"
     ]
    }
   ],
   "source": [
    "with open(\"data.txt\", \"r\") as fp:\n",
    "    outputs = fp.readlines()\n",
    "    print(outputs)"
   ]
  },
  {
   "cell_type": "code",
   "execution_count": 43,
   "id": "7f7100d2-9f28-4362-b461-5355bcc024d6",
   "metadata": {},
   "outputs": [
    {
     "data": {
      "text/plain": [
       "[1, 4, 9, 16, 25]"
      ]
     },
     "execution_count": 43,
     "metadata": {},
     "output_type": "execute_result"
    }
   ],
   "source": [
    "f = lambda x:x**2\n",
    "\n",
    "list(map(f, [1,2,3,4,5]))"
   ]
  },
  {
   "cell_type": "code",
   "execution_count": 44,
   "id": "e6013ab5-c34a-449d-afb2-fb361df24be5",
   "metadata": {},
   "outputs": [
    {
     "data": {
      "text/plain": [
       "'abcbdf123'"
      ]
     },
     "execution_count": 44,
     "metadata": {},
     "output_type": "execute_result"
    }
   ],
   "source": [
    "from functools import reduce\n",
    "reduce(lambda x,y:x+y, ['abc','bdf','123'])"
   ]
  },
  {
   "cell_type": "code",
   "execution_count": 45,
   "id": "86a89cad-51c4-4d17-96de-eeedc8a95b3b",
   "metadata": {},
   "outputs": [],
   "source": [
    "kvtable = {1:2, 2:4, 3:4, 5:5}\n",
    "f = lambda x,y:x.update(dict(zip(y.items)))"
   ]
  },
  {
   "cell_type": "code",
   "execution_count": null,
   "id": "cbace4da-444d-4c8b-9ff0-7decb220b05f",
   "metadata": {},
   "outputs": [],
   "source": []
  }
 ],
 "metadata": {
  "kernelspec": {
   "display_name": "Python 3 (ipykernel)",
   "language": "python",
   "name": "python3"
  },
  "language_info": {
   "codemirror_mode": {
    "name": "ipython",
    "version": 3
   },
   "file_extension": ".py",
   "mimetype": "text/x-python",
   "name": "python",
   "nbconvert_exporter": "python",
   "pygments_lexer": "ipython3",
   "version": "3.12.4"
  }
 },
 "nbformat": 4,
 "nbformat_minor": 5
}
